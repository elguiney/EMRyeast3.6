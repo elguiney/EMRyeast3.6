{
 "cells": [
  {
   "cell_type": "markdown",
   "metadata": {},
   "source": [
    "imports:"
   ]
  },
  {
   "cell_type": "code",
   "execution_count": null,
   "metadata": {},
   "outputs": [],
   "source": [
    "ympy_path = 'C:/Users/elgui/Documents/Emr Lab Post Doc/Bioinformatics and Modelling/Python/EMRyeast/YeastMorphologyPypeline/'\n",
    "\n",
    "import sys\n",
    "sys.path\n",
    "sys.path.append(ympy_path)\n",
    "\n",
    "import pickle\n",
    "import numpy as np\n",
    "import datetime\n",
    "import os\n",
    "import matplotlib.pyplot as plt\n",
    "import pandas as pd\n",
    "import seaborn as sns\n",
    "import cv2\n",
    "\n",
    "import ympy"
   ]
  },
  {
   "cell_type": "markdown",
   "metadata": {},
   "source": [
    "Enter terms that depend on precise experiment design"
   ]
  },
  {
   "cell_type": "code",
   "execution_count": null,
   "metadata": {},
   "outputs": [],
   "source": [
    "user_enter_folder_path = #path to your raw image data\n",
    "user_enter_experiment_name = #a short name\n",
    "user_enter_measured_protein_name = #for example, 'Art1-mNG'\n",
    "user_enter_marker_name =#for example, 'golgi'\n",
    "#use a 6 character id prefix on all images (or change exp_ID_loc)\n",
    "user_enter_expid_lookup = {\n",
    "        'column_names': ['strain', 'condition'],\n",
    "        '######':('%%%','$$$') # where ######, %%% and $$$ are replaced with expid, strain and \n",
    "                               # condition, respectively, for each such tuple\n",
    "        }"
   ]
  },
  {
   "cell_type": "markdown",
   "metadata": {},
   "source": [
    "Populate full experiment parameters dictionary; using terms defined in above block. Additinal defaults are supplied below; change as needed"
   ]
  },
  {
   "cell_type": "code",
   "execution_count": null,
   "metadata": {},
   "outputs": [],
   "source": [
    "exp_params = dict(\n",
    "        folder_path = user_enter_folder_path,\n",
    "        experiment_name = user_enter_experiment_name,\n",
    "        image_extension = 'R3D_D3D.dv', \n",
    "        image_reader = ympy.helpers.basicDVreader,\n",
    "        reader_args = {'n_channels': 3, 'z_first': True}, \n",
    "        measured_protein_name = user_enter_measured_protein_name, \n",
    "        marker_name = user_enter_marker_name, \n",
    "        measured_protein_channel = 1, \n",
    "        measured_protein_z = 3, \n",
    "        marker_channel = 0, \n",
    "        bf_offest_vector = [2, -1],\n",
    "        exp_ID_loc = [0,6], # start position, length\n",
    "        expid_lookup = user_enter_expid_lookup\n",
    "        )"
   ]
  },
  {
   "cell_type": "code",
   "execution_count": null,
   "metadata": {},
   "outputs": [],
   "source": [
    "pipeline = ympy.pipelines.GFPwMarkerPipeline(exp_params)\n",
    "pipeline.runPipeline()"
   ]
  },
  {
   "cell_type": "code",
   "execution_count": null,
   "metadata": {},
   "outputs": [],
   "source": [
    "pipeline_results_path = pipeline.save_path\n",
    "print(pipeline)\n",
    "qcpipeline = ympy.pipelines.QualityControlPipeline(pipeline.save_path, exp_params)\n",
    "qcpipeline.firstTimeStartInPipeline()\n",
    "qcpipeline.prefilterQC()\n",
    "qcpipeline.callQCframeLib()\n",
    "qcpipeline.QCframeLib.initializeLibrary()"
   ]
  },
  {
   "cell_type": "code",
   "execution_count": null,
   "metadata": {},
   "outputs": [],
   "source": [
    "qcpipeline.autosave = False\n",
    "qcpipeline.QCframeLib.displayForQC()"
   ]
  },
  {
   "cell_type": "code",
   "execution_count": null,
   "metadata": {},
   "outputs": [],
   "source": [
    "qcpipeline.expandExpIDs()\n",
    "qcpipeline.sortQCDF()"
   ]
  },
  {
   "cell_type": "code",
   "execution_count": null,
   "metadata": {},
   "outputs": [],
   "source": [
    "norm_cortex_series = pd.Series(qcpipeline.accepted_df.loc[:,'cortex(non-{})_{}_histogram-dif'\n",
    "                                                          .format(user_enter_marker_name, user_enter_measured_protein_name)]\n",
    "                               /qcpipeline.accepted_df.loc[:,'total_cell_{}_histogram-sum'\n",
    "                                                           .format(user_enter_measured_protein_name)])\n",
    "norm_marker_series = pd.Series(qcpipeline.accepted_df.loc[:,'{}(ciricles)_{}_histogram-dif'\n",
    "                                                          .format(user_enter_marker_name, user_enter_measured_protein_name)] /\n",
    "                       qcpipeline.accepted_df.loc[:,'total_cell_{}_histogram-sum'\n",
    "                                                  .format(user_enter_measured_protein_name)])\n",
    "\n",
    "df = qcpipeline.accepted_df.assign(norm_cortex = norm_cortex_series)\n",
    "df = df.assign(norm_marker = norm_marker_series)"
   ]
  }
 ],
 "metadata": {
  "kernelspec": {
   "display_name": "Python 3",
   "language": "python",
   "name": "python3"
  },
  "language_info": {
   "codemirror_mode": {
    "name": "ipython",
    "version": 3
   },
   "file_extension": ".py",
   "mimetype": "text/x-python",
   "name": "python",
   "nbconvert_exporter": "python",
   "pygments_lexer": "ipython3",
   "version": "3.6.3"
  }
 },
 "nbformat": 4,
 "nbformat_minor": 2
}
