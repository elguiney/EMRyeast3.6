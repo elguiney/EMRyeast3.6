{
 "cells": [
  {
   "cell_type": "code",
   "execution_count": null,
   "metadata": {},
   "outputs": [],
   "source": [
    "ympy_path = 'C:/Users/elgui/Documents/Emr Lab Post Doc/Bioinformatics and Modelling/Python/EMRyeast/YeastMorphologyPypeline/'\n",
    "\n",
    "import sys\n",
    "sys.path\n",
    "sys.path.append(ympy_path)\n",
    "\n",
    "import pickle\n",
    "import numpy as np\n",
    "import datetime\n",
    "import os\n",
    "import matplotlib.pyplot as plt\n",
    "import pandas as pd\n",
    "import seaborn as sns\n",
    "import cv2\n",
    "\n",
    "import ympy"
   ]
  },
  {
   "cell_type": "code",
   "execution_count": null,
   "metadata": {},
   "outputs": [],
   "source": [
    "exp_params = dict(\n",
    "        folder_path = ('C:/Users/elgui/Documents/Emr Lab Post Doc/microscopy/'\n",
    "              '2018-07-16_Art1_GlnShift_panel_exp1'),\n",
    "        experiment_name = 'expIDcode-AN_glutamine_shift_panel_prelim-analysis',\n",
    "        image_extension = 'R3D_D3D.dv', \n",
    "        image_reader = ympy.helpers.basicDVreader,\n",
    "        reader_args = {'n_channels': 3, 'z_first': True}, \n",
    "        measured_protein_name = 'Art1-mNG', \n",
    "        marker_name = 'golgi', \n",
    "        measured_protein_channel = 1, \n",
    "        measured_protein_z = 3, \n",
    "        marker_channel = 0, \n",
    "        bf_offest_vector = [2, -1], \n",
    "        expid_lookup = {\n",
    "            'column_names': ['strain', 'condition'],\n",
    "            'AA0000': ('wt', 'control'),\n",
    "            'AA0001': ('wt', 'treated'),\n",
    "            'AA1000': ('mutant','control'),\n",
    "            'AA1001': ('mutant', 'treated')}\n",
    "        )"
   ]
  },
  {
   "cell_type": "code",
   "execution_count": null,
   "metadata": {},
   "outputs": [],
   "source": []
  },
  {
   "cell_type": "code",
   "execution_count": null,
   "metadata": {},
   "outputs": [],
   "source": [
    "pipeline = ympy.pipelines.GFPwMarkerPipeline(exp_params)\n",
    "pipeline.runPipeline()"
   ]
  },
  {
   "cell_type": "code",
   "execution_count": null,
   "metadata": {},
   "outputs": [],
   "source": [
    "pipeline_results_path = exp_params['folder_path'] + '/results/2018-07-16_analysis.p'\n",
    "qcpipeline = ympy.pipelines.QualityControlPipeline(pipeline_results_path, exp_params)\n",
    "qcpipeline.firstTimeStartInPipeline()\n",
    "qcpipeline.prefilterQC()\n",
    "qcpipeline.callQCframeLib()\n",
    "qcpipeline.QCframeLib.initializeLibrary()"
   ]
  },
  {
   "cell_type": "code",
   "execution_count": null,
   "metadata": {},
   "outputs": [],
   "source": [
    "qcpipeline.QCframeLib.displayForQC()"
   ]
  },
  {
   "cell_type": "code",
   "execution_count": null,
   "metadata": {},
   "outputs": [],
   "source": [
    "qcpipeline.sortQCDF()\n",
    "fig=plt.figure(figsize=(12, 8), dpi= 80, facecolor='w', edgecolor='k')\n",
    "ax = sns.barplot(x='expID', y='cortex(non-golgi)_Art1-mNG_histogram-dif', data=qcpipeline.accepted_df)\n",
    "#ax = sns.stripplot(x='expID', y='cortex(non-golgi)_Art1-mNG_histogram-dif', data=qcpipeline.accepted_df, jitter=.5, alpha=0.3, linewidth=1)\n"
   ]
  },
  {
   "cell_type": "code",
   "execution_count": null,
   "metadata": {},
   "outputs": [],
   "source": []
  }
 ],
 "metadata": {
  "kernelspec": {
   "display_name": "Python 3",
   "language": "python",
   "name": "python3"
  },
  "language_info": {
   "codemirror_mode": {
    "name": "ipython",
    "version": 3
   },
   "file_extension": ".py",
   "mimetype": "text/x-python",
   "name": "python",
   "nbconvert_exporter": "python",
   "pygments_lexer": "ipython3",
   "version": "3.6.3"
  }
 },
 "nbformat": 4,
 "nbformat_minor": 2
}
