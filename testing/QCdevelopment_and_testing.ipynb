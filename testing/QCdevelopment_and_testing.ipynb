{
 "cells": [
  {
   "cell_type": "code",
   "execution_count": 1,
   "metadata": {},
   "outputs": [],
   "source": [
    "import EMRyeast36\n",
    "import pickle\n",
    "import numpy as np\n",
    "import datetime\n",
    "import os\n",
    "\n",
    "import matplotlib.pyplot as plt\n",
    "import pandas as pd\n",
    "\n",
    "import ipywidgets as widgets\n",
    "from ipywidgets import Layout\n",
    "from IPython.display import display,clear_output\n",
    "\n",
    "import random"
   ]
  },
  {
   "cell_type": "code",
   "execution_count": 2,
   "metadata": {},
   "outputs": [],
   "source": [
    "# local function parameters\n",
    "rolloff = 64\n",
    "nChannels = 3\n",
    "zFirst = True\n",
    "bwChannel = 2\n",
    "bfAnomalyShiftVector = [2,-1]\n",
    "minAngle = 22\n",
    "minLength = 5\n",
    "closeRadius = 3\n",
    "minBudSize = 75\n",
    "cortexWidth = 10\n",
    "bufferSize = 5\n",
    "showProgress = True\n",
    "mkrChannel = 0\n",
    "borderSize = 10\n",
    "golgiRadius = 7\n",
    "rgbScalingFactors = [0.4,0.4]\n",
    "gryScalingFactors = [0.2,0.2]"
   ]
  },
  {
   "cell_type": "code",
   "execution_count": 3,
   "metadata": {},
   "outputs": [],
   "source": [
    "targetFolder = r\"C:\\Users\\elgui\\Documents\\Emr Lab Post Doc\\microscopy\\Art1Quant\\2018-06-12_Art1Quant_exp1\"\n",
    "resultsDirectory = targetFolder + '/results/'\n",
    "resultsName = '/2018-06-18_analysis.p'\n",
    "qcAutosaveName = '/qcAutosave.p'\n",
    "resultsDataPath = resultsDirectory + resultsName\n",
    "qcAutosavePath = resultsDirectory + qcAutosaveName\n",
    "\n",
    "\n",
    "folderData = EMRyeast36.batchParse(targetFolder, expIDloc=[0,6])\n",
    "nFields = folderData['nFields']\n",
    "imageNameList = folderData['imagenameList']\n",
    "pathList = folderData['pathlist']\n",
    "expIDlist = folderData['expIDlist']\n",
    "\n",
    "expIDcategory = 'AA'\n",
    "\n",
    "resultsData = EMRyeast36.qcDisplay.initializeQC(resultsDataPath, expIDcategory, '20180617')\n"
   ]
  },
  {
   "cell_type": "code",
   "execution_count": 4,
   "metadata": {},
   "outputs": [],
   "source": [
    "b1,b2,b3,b4 = EMRyeast36.qcDisplay.makeQCbuttons()\n",
    "global status_list\n",
    "randLookupStart=0\n",
    "objs = EMRyeast36.qcDisplay.makeQC_clickfunctions(\n",
    "    randLookupStart, resultsData, resultsData['totalResults'], pathList, ['mCh-Sec7','Art1-mNG'], resultsDirectory, autosave=True) \n",
    "click_b1, click_b2, click_b3, click_b4, out1, out2, status_list = objs\n",
    "    \n",
    "b1.on_click(click_b1)\n",
    "b2.on_click(click_b2)\n",
    "b3.on_click(click_b3)\n",
    "b4.on_click(click_b4)"
   ]
  },
  {
   "cell_type": "code",
   "execution_count": 5,
   "metadata": {},
   "outputs": [
    {
     "data": {
      "application/vnd.jupyter.widget-view+json": {
       "model_id": "c0118b75136d4e78aa16933e3b6e9ad5",
       "version_major": 2,
       "version_minor": 0
      },
      "text/plain": [
       "A Jupyter Widget"
      ]
     },
     "metadata": {},
     "output_type": "display_data"
    }
   ],
   "source": [
    "plt.ioff()\n",
    "qcDict = EMRyeast36.qcDisplay.makeQCframe(randLookupStart, resultsData, resultsData['totalResults'], pathList)\n",
    "with out1:\n",
    "    EMRyeast36.qcDisplay.frameDisplay(qcDict,['mCh-Sec7','Art1-mNG'])\n",
    "widgets.HBox([out1, widgets.VBox([b1,b2,b3,b4,out2])])"
   ]
  },
  {
   "cell_type": "code",
   "execution_count": 8,
   "metadata": {},
   "outputs": [
    {
     "data": {
      "text/plain": [
       "True"
      ]
     },
     "execution_count": 8,
     "metadata": {},
     "output_type": "execute_result"
    }
   ],
   "source": [
    "'accepted' in status_list"
   ]
  },
  {
   "cell_type": "code",
   "execution_count": 10,
   "metadata": {},
   "outputs": [
    {
     "data": {
      "text/plain": [
       "[4838, 5546, 4407, 4913, 4902, 5314, 257, 1915, 5822, 2930]"
      ]
     },
     "execution_count": 10,
     "metadata": {},
     "output_type": "execute_result"
    }
   ],
   "source": [
    "randArray = list(resultsData['totalResults']['randomIdx'])\n",
    "indexArray = [randArray.index(i) for i in range(len(randArray))]\n",
    "indexArray[0:10]"
   ]
  },
  {
   "cell_type": "code",
   "execution_count": 11,
   "metadata": {},
   "outputs": [],
   "source": [
    "EMRyeast36.qcDisplay.syncQCstate(qcAutosavePath,resultsDataPath)"
   ]
  },
  {
   "cell_type": "code",
   "execution_count": null,
   "metadata": {},
   "outputs": [],
   "source": [
    "print(status_list[3429])"
   ]
  },
  {
   "cell_type": "code",
   "execution_count": null,
   "metadata": {},
   "outputs": [],
   "source": [
    "%matplotlib inline\n",
    "fig = plt.figure(figsize=(12,12))\n",
    "plt.imshow(rgbQC[200:400,1100:1300])"
   ]
  },
  {
   "cell_type": "code",
   "execution_count": null,
   "metadata": {},
   "outputs": [],
   "source": [
    "mcl = resultsData['totalMcl'][fieldIdx]\n",
    "fig = plt.figure(figsize=(12,12))\n",
    "tablet = np.zeros(mcl.shape,mcl.dtype)\n",
    "tablet[mcl==cellLbl]=1\n",
    "plt.imshow(tablet[200:400,1100:1300])"
   ]
  },
  {
   "cell_type": "code",
   "execution_count": null,
   "metadata": {},
   "outputs": [],
   "source": []
  }
 ],
 "metadata": {
  "kernelspec": {
   "display_name": "Python 3",
   "language": "python",
   "name": "python3"
  },
  "language_info": {
   "codemirror_mode": {
    "name": "ipython",
    "version": 3
   },
   "file_extension": ".py",
   "mimetype": "text/x-python",
   "name": "python",
   "nbconvert_exporter": "python",
   "pygments_lexer": "ipython3",
   "version": "3.6.3"
  }
 },
 "nbformat": 4,
 "nbformat_minor": 2
}
